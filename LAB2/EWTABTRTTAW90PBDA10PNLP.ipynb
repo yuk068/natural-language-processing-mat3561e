{
 "cells": [
  {
   "cell_type": "code",
   "execution_count": 2,
   "id": "3a10d5bd-31c2-4374-a5d3-ed2eeaa2a0bb",
   "metadata": {},
   "outputs": [
    {
     "name": "stdout",
     "output_type": "stream",
     "text": [
      "sample 0\n",
      "Beginners BBQ Class Taking Place in Missoula!\n",
      "Do you want to get better at making delicious BBQ? You\n",
      "sample 1\n",
      "Discussion in 'Mac OS X Lion (10.7)' started by axboi87, Jan 20, 2012.\n",
      "I've got a 500gb internal dri\n",
      "sample 2\n",
      "Foil plaid lycra and spandex shortall with metallic slinky insets. Attached metallic elastic belt wi\n"
     ]
    }
   ],
   "source": [
    "# NOTE: The course expects Spark, but since this is just about loading\n",
    "# and previewing a handful of samples, we use pandas for simplicity.\n",
    "\n",
    "import pandas as pd\n",
    "import json\n",
    "\n",
    "data = []\n",
    "with open(\"data/c4-train.00000-of-01024-30K.json\", \"r\", encoding=\"utf-8\") as f:\n",
    "    for i, line in enumerate(f):\n",
    "        if i >= 50:\n",
    "            break\n",
    "        data.append(json.loads(line)[\"text\"])\n",
    "\n",
    "df = pd.DataFrame(data, columns=[\"text\"])\n",
    "\n",
    "for i in range(3):\n",
    "    print(\"sample\", i)\n",
    "    print(df.loc[i, \"text\"][:100])"
   ]
  },
  {
   "cell_type": "code",
   "execution_count": 3,
   "id": "c8a0b3c6-5a9c-43e8-adc2-6d5c5cbb0c40",
   "metadata": {},
   "outputs": [
    {
     "name": "stdout",
     "output_type": "stream",
     "text": [
      "Vocab size: 3371\n",
      "Shape of vectors: (50, 3371)\n",
      "All values non-negative? True\n",
      "Any decimal values? True\n",
      "Per-sample vector magnitudes (first 5): [1. 1. 1. 1. 1.]\n",
      "Total magnitude across all samples: 50.00000000000001\n",
      "Stats on values: min = 0.0 max = 0.7916261758784078 mean = 0.002120859786574523\n"
     ]
    }
   ],
   "source": [
    "from sklearn.feature_extraction.text import TfidfVectorizer\n",
    "import numpy as np\n",
    "\n",
    "vectorizer = TfidfVectorizer(stop_words=\"english\", max_features=4096)\n",
    "X = vectorizer.fit_transform(df[\"text\"])\n",
    "\n",
    "vectors = X.toarray()\n",
    "vocab_size = len(vectorizer.vocabulary_)\n",
    "\n",
    "all_positive = np.all(vectors >= 0)\n",
    "is_decimal = np.any((vectors % 1) != 0)\n",
    "magnitudes = np.linalg.norm(vectors, axis=1)\n",
    "\n",
    "print(\"Vocab size:\", vocab_size)\n",
    "print(\"Shape of vectors:\", vectors.shape)\n",
    "print(\"All values non-negative?\", all_positive)\n",
    "print(\"Any decimal values?\", is_decimal)\n",
    "print(\"Per-sample vector magnitudes (first 5):\", magnitudes[:5])\n",
    "print(\"Total magnitude across all samples:\", np.sum(magnitudes))\n",
    "print(\"Stats on values: min =\", np.min(vectors), \"max =\", np.max(vectors), \"mean =\", np.mean(vectors))"
   ]
  },
  {
   "cell_type": "code",
   "execution_count": 4,
   "id": "739b5381-1240-4509-ace4-932c43aa28ae",
   "metadata": {},
   "outputs": [
    {
     "name": "stdout",
     "output_type": "stream",
     "text": [
      "Query: BBQ\n",
      "\n",
      "Top 5 most similar samples:\n",
      "\n",
      "1. Score=0.4550 | Sample='Beginners BBQ Class Taking Place in Missoula!\\nDo you want to get better at making delicious BBQ? You'\n",
      "2. Score=0.0000 | Sample='It is possible to erase up to 4 HDD / SSD at the same time. IDE HDD connection is also possible with'\n",
      "3. Score=0.0000 | Sample='So many things happening this weekend!\\nThe highly anticipated PBS Kids in the Park festival is tomor'\n",
      "4. Score=0.0000 | Sample='Farmington, CT, August 30, 2016 -- Many Americans realize they need long-term care insurance, but ba'\n",
      "5. Score=0.0000 | Sample='As I have been discussing the magic of wordpress themes before. WordPress has brough a revolution as'\n"
     ]
    }
   ],
   "source": [
    "# So yeah I kinda don't care if Spark's TF-IDF normalizes by defaults or not but i suppose this is what yall mean by normalize, for scikit-learn it normalizes them by default\n",
    "from sklearn.metrics.pairwise import cosine_similarity\n",
    "\n",
    "# Change this query to experiment\n",
    "query = \"BBQ\"\n",
    "\n",
    "# Vectorize query with same vectorizer\n",
    "query_vec = vectorizer.transform([query])\n",
    "\n",
    "# Compute cosine similarity\n",
    "sims = cosine_similarity(query_vec, X).flatten()\n",
    "\n",
    "# Get top 5 matches\n",
    "top_idx = sims.argsort()[::-1][:5]\n",
    "\n",
    "print(\"Query:\", query)\n",
    "print(\"\\nTop 5 most similar samples:\\n\")\n",
    "for rank, idx in enumerate(top_idx, start=1):\n",
    "    print(f\"{rank}. Score={sims[idx]:.4f} | Sample={df.loc[idx, 'text'][:100]!r}\")"
   ]
  }
 ],
 "metadata": {
  "kernelspec": {
   "display_name": "Python 3.10 (spark-nlp)",
   "language": "python",
   "name": "spark-nlp"
  },
  "language_info": {
   "codemirror_mode": {
    "name": "ipython",
    "version": 3
   },
   "file_extension": ".py",
   "mimetype": "text/x-python",
   "name": "python",
   "nbconvert_exporter": "python",
   "pygments_lexer": "ipython3",
   "version": "3.10.18"
  }
 },
 "nbformat": 4,
 "nbformat_minor": 5
}
