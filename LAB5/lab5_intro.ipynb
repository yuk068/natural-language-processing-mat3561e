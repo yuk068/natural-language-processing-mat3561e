{
 "cells": [
  {
   "cell_type": "markdown",
   "id": "7124b90e",
   "metadata": {},
   "source": [
    "# Lab 5 (Nhập môn): Làm quen với PyTorch\n",
    "\n",
    "Bài thực hành này là bước đệm để bạn làm quen với PyTorch, một trong những thư viện Deep Learning mạnh mẽ và phổ biến nhất.\n",
    "\n",
    "## 1. Mục tiêu\n",
    "* Hiểu và thao tác với đối tượng quan trọng nhất trong PyTorch: Tensor.\n",
    "* Hiểu cách PyTorch tự động tính toán đạo hàm (gradient) thông qua autograd.\n",
    "* Biết cách xây dựng một mạng nơ-ron đơn giản bằng cách kế thừa lớp `torch.nn.Module`.\n",
    "* Làm quen với hai lớp (layer) cơ bản: `nn.Linear` và `nn.Embedding`."
   ]
  },
  {
   "cell_type": "markdown",
   "id": "be2e0b32",
   "metadata": {},
   "source": [
    "## 2. Các bước thực hiện\n",
    "\n",
    "### Import thư viện cần thiết"
   ]
  },
  {
   "cell_type": "code",
   "execution_count": 1,
   "id": "9cf1f43e",
   "metadata": {},
   "outputs": [],
   "source": [
    "import torch\n",
    "import numpy as np"
   ]
  },
  {
   "cell_type": "markdown",
   "id": "59266f2c",
   "metadata": {},
   "source": [
    "### Phần 1: Khám phá Tensor\n",
    "\n",
    "Tensor là cấu trúc dữ liệu cốt lõi của PyTorch, tương tự như ndarray của NumPy nhưng có thêm khả năng chạy trên GPU và tự động tính đạo hàm."
   ]
  },
  {
   "cell_type": "markdown",
   "id": "e1a5ad96",
   "metadata": {},
   "source": [
    "#### Task 1.1: Tạo Tensor"
   ]
  },
  {
   "cell_type": "code",
   "execution_count": 2,
   "id": "32f71922",
   "metadata": {},
   "outputs": [
    {
     "name": "stdout",
     "output_type": "stream",
     "text": [
      "Tensor từ list:\n",
      "tensor([[1, 2],\n",
      "        [3, 4]])\n",
      "\n",
      "Tensor từ NumPy array:\n",
      "tensor([[1, 2],\n",
      "        [3, 4]])\n",
      "\n",
      "Ones Tensor:\n",
      "tensor([[1, 1],\n",
      "        [1, 1]])\n",
      "\n",
      "Random Tensor:\n",
      "tensor([[0.8223, 0.8870],\n",
      "        [0.7349, 0.2153]])\n",
      "\n",
      "Shape của tensor: torch.Size([2, 2])\n",
      "Datatype của tensor: torch.float32\n",
      "Device lưu trữ tensor: cpu\n"
     ]
    }
   ],
   "source": [
    "# Tạo tensor từ list\n",
    "data = [[1, 2], [3, 4]]\n",
    "x_data = torch.tensor(data)\n",
    "print(f\"Tensor từ list:\\n{x_data}\\n\")\n",
    "\n",
    "# Tạo tensor từ NumPy array\n",
    "np_array = np.array(data)\n",
    "x_np = torch.from_numpy(np_array)\n",
    "print(f\"Tensor từ NumPy array:\\n{x_np}\\n\")\n",
    "\n",
    "# Tạo tensor với các giá trị ngẫu nhiên hoặc hằng số\n",
    "x_ones = torch.ones_like(x_data)\n",
    "print(f\"Ones Tensor:\\n{x_ones}\\n\")\n",
    "\n",
    "x_rand = torch.rand_like(x_data, dtype=torch.float)\n",
    "print(f\"Random Tensor:\\n{x_rand}\\n\")\n",
    "\n",
    "print(f\"Shape của tensor: {x_rand.shape}\")\n",
    "print(f\"Datatype của tensor: {x_rand.dtype}\")\n",
    "print(f\"Device lưu trữ tensor: {x_rand.device}\")"
   ]
  },
  {
   "cell_type": "markdown",
   "id": "5bb1a3ce",
   "metadata": {},
   "source": [
    "#### Task 1.2: Các phép toán trên Tensor"
   ]
  },
  {
   "cell_type": "code",
   "execution_count": 3,
   "id": "a4c60561",
   "metadata": {},
   "outputs": [
    {
     "name": "stdout",
     "output_type": "stream",
     "text": [
      "\n",
      "--- Task 1.2: Các phép toán trên Tensor ---\n",
      "x_data + x_data:\n",
      "tensor([[2, 4],\n",
      "        [6, 8]])\n",
      "\n",
      "x_data * 5:\n",
      "tensor([[ 5, 10],\n",
      "        [15, 20]])\n",
      "\n",
      "x_data @ x_data.T:\n",
      "tensor([[ 5, 11],\n",
      "        [11, 25]])\n",
      "\n"
     ]
    }
   ],
   "source": [
    "print(\"\\n--- Task 1.2: Các phép toán trên Tensor ---\")\n",
    "add_result = x_data + x_data\n",
    "print(f\"x_data + x_data:\\n{add_result}\\n\")\n",
    "\n",
    "mul_result = x_data * 5\n",
    "print(f\"x_data * 5:\\n{mul_result}\\n\")\n",
    "\n",
    "matmul_result = x_data @ x_data.T\n",
    "print(f\"x_data @ x_data.T:\\n{matmul_result}\\n\")"
   ]
  },
  {
   "cell_type": "markdown",
   "id": "61637384",
   "metadata": {},
   "source": [
    "#### Task 1.3: Indexing và Slicing"
   ]
  },
  {
   "cell_type": "code",
   "execution_count": 4,
   "id": "b77f9ba5",
   "metadata": {},
   "outputs": [
    {
     "name": "stdout",
     "output_type": "stream",
     "text": [
      "\n",
      "--- Task 1.3: Indexing và Slicing ---\n",
      "Hàng đầu tiên: tensor([1, 2])\n",
      "Cột thứ hai: tensor([2, 4])\n",
      "Giá trị (hàng 2, cột 2): 4\n",
      "\n"
     ]
    }
   ],
   "source": [
    "print(\"\\n--- Task 1.3: Indexing và Slicing ---\")\n",
    "first_row = x_data[0]\n",
    "print(f\"Hàng đầu tiên: {first_row}\")\n",
    "\n",
    "second_col = x_data[:, 1]\n",
    "print(f\"Cột thứ hai: {second_col}\")\n",
    "\n",
    "value = x_data[1, 1]\n",
    "print(f\"Giá trị (hàng 2, cột 2): {value}\\n\")"
   ]
  },
  {
   "cell_type": "markdown",
   "id": "ef3fab1f",
   "metadata": {},
   "source": [
    "#### Task 1.4: Thay đổi hình dạng Tensor"
   ]
  },
  {
   "cell_type": "code",
   "execution_count": 5,
   "id": "9de557e7",
   "metadata": {},
   "outputs": [
    {
     "name": "stdout",
     "output_type": "stream",
     "text": [
      "\n",
      "--- Task 1.4: Thay đổi hình dạng Tensor ---\n",
      "Tensor (4, 4) ban đầu:\n",
      "tensor([[0.9972, 0.3188, 0.2187, 0.0058],\n",
      "        [0.8132, 0.1623, 0.4040, 0.9158],\n",
      "        [0.8190, 0.1269, 0.4425, 0.2901],\n",
      "        [0.8056, 0.5954, 0.1822, 0.1696]])\n",
      "\n",
      "Tensor (16, 1) sau khi reshape/view:\n",
      "tensor([[0.9972],\n",
      "        [0.3188],\n",
      "        [0.2187],\n",
      "        [0.0058],\n",
      "        [0.8132],\n",
      "        [0.1623],\n",
      "        [0.4040],\n",
      "        [0.9158],\n",
      "        [0.8190],\n",
      "        [0.1269],\n",
      "        [0.4425],\n",
      "        [0.2901],\n",
      "        [0.8056],\n",
      "        [0.5954],\n",
      "        [0.1822],\n",
      "        [0.1696]])\n",
      "\n",
      "Shape mới: torch.Size([16, 1])\n"
     ]
    }
   ],
   "source": [
    "print(\"\\n--- Task 1.4: Thay đổi hình dạng Tensor ---\")\n",
    "tensor_4x4 = torch.rand(4, 4)\n",
    "print(f\"Tensor (4, 4) ban đầu:\\n{tensor_4x4}\\n\")\n",
    "\n",
    "tensor_16x1 = tensor_4x4.view(16, 1)\n",
    "print(f\"Tensor (16, 1) sau khi reshape/view:\\n{tensor_16x1}\\n\")\n",
    "print(f\"Shape mới: {tensor_16x1.shape}\")"
   ]
  },
  {
   "cell_type": "markdown",
   "id": "febacf4f",
   "metadata": {},
   "source": [
    "### Phần 2: Tự động tính Đạo hàm với autograd"
   ]
  },
  {
   "cell_type": "code",
   "execution_count": 6,
   "id": "efde9a50",
   "metadata": {},
   "outputs": [
    {
     "name": "stdout",
     "output_type": "stream",
     "text": [
      "\n",
      "--- Task 2.1: Thực hành với autograd ---\n",
      "x: tensor([1.], requires_grad=True)\n",
      "y: tensor([3.], grad_fn=<AddBackward0>)\n",
      "grad_fn của y: <AddBackward0 object at 0x0000012BD719B7F0>\n",
      "z: tensor([27.], grad_fn=<MulBackward0>)\n",
      "Đạo hàm của z theo x (dz/dx): tensor([18.])\n"
     ]
    }
   ],
   "source": [
    "print(\"\\n--- Task 2.1: Thực hành với autograd ---\")\n",
    "x = torch.ones(1, requires_grad=True)\n",
    "print(f\"x: {x}\")\n",
    "\n",
    "y = x + 2\n",
    "print(f\"y: {y}\")\n",
    "print(f\"grad_fn của y: {y.grad_fn}\")\n",
    "\n",
    "z = y * y * 3\n",
    "print(f\"z: {z}\")\n",
    "\n",
    "z.backward()\n",
    "print(f\"Đạo hàm của z theo x (dz/dx): {x.grad}\")"
   ]
  },
  {
   "cell_type": "code",
   "execution_count": 7,
   "id": "8b44365e",
   "metadata": {},
   "outputs": [
    {
     "name": "stdout",
     "output_type": "stream",
     "text": [
      "\n",
      "--- Thử gọi backward() lần 2 ---\n",
      "Lỗi khi gọi backward() lần 2: Trying to backward through the graph a second time (or directly access saved tensors after they have already been freed). Saved intermediate values of the graph are freed when you call .backward() or autograd.grad(). Specify retain_graph=True if you need to backward through the graph a second time or if you need to access saved tensors after calling backward.\n"
     ]
    }
   ],
   "source": [
    "print(\"\\n--- Thử gọi backward() lần 2 ---\")\n",
    "try:\n",
    "    z.backward()\n",
    "except RuntimeError as e:\n",
    "    print(f\"Lỗi khi gọi backward() lần 2: {e}\")"
   ]
  },
  {
   "cell_type": "markdown",
   "id": "964ffe05",
   "metadata": {},
   "source": [
    "### Phần 3: Xây dựng Mô hình đầu tiên với torch.nn"
   ]
  },
  {
   "cell_type": "code",
   "execution_count": 8,
   "id": "57347c2e",
   "metadata": {},
   "outputs": [
    {
     "name": "stdout",
     "output_type": "stream",
     "text": [
      "\n",
      "--- Task 3.1: Lớp nn.Linear ---\n",
      "Input shape: torch.Size([3, 5])\n",
      "Output shape: torch.Size([3, 2])\n",
      "Output:\n",
      "tensor([[-0.4417,  0.6662],\n",
      "        [ 0.1794,  1.6721],\n",
      "        [-1.2578,  0.6438]], grad_fn=<AddmmBackward0>)\n"
     ]
    }
   ],
   "source": [
    "print(\"\\n--- Task 3.1: Lớp nn.Linear ---\")\n",
    "linear_layer = torch.nn.Linear(in_features=5, out_features=2)\n",
    "input_tensor = torch.randn(3, 5)\n",
    "output = linear_layer(input_tensor)\n",
    "print(f\"Input shape: {input_tensor.shape}\")\n",
    "print(f\"Output shape: {output.shape}\")\n",
    "print(f\"Output:\\n{output}\")"
   ]
  },
  {
   "cell_type": "code",
   "execution_count": 9,
   "id": "e364b28a",
   "metadata": {},
   "outputs": [
    {
     "name": "stdout",
     "output_type": "stream",
     "text": [
      "\n",
      "--- Task 3.2: Lớp nn.Embedding ---\n",
      "Input shape: torch.Size([4])\n",
      "Output shape: torch.Size([4, 3])\n",
      "Embeddings:\n",
      "tensor([[-0.4954, -1.4475, -0.7673],\n",
      "        [ 0.2882, -1.1867,  0.5738],\n",
      "        [ 0.3952,  1.0548, -1.0349],\n",
      "        [-0.1952, -1.2946, -1.3610]], grad_fn=<EmbeddingBackward0>)\n"
     ]
    }
   ],
   "source": [
    "print(\"\\n--- Task 3.2: Lớp nn.Embedding ---\")\n",
    "embedding_layer = torch.nn.Embedding(num_embeddings=10, embedding_dim=3)\n",
    "input_indices = torch.LongTensor([1, 5, 0, 8])\n",
    "embeddings = embedding_layer(input_indices)\n",
    "print(f\"Input shape: {input_indices.shape}\")\n",
    "print(f\"Output shape: {embeddings.shape}\")\n",
    "print(f\"Embeddings:\\n{embeddings}\")"
   ]
  },
  {
   "cell_type": "code",
   "execution_count": 10,
   "id": "b6b2e869",
   "metadata": {},
   "outputs": [
    {
     "name": "stdout",
     "output_type": "stream",
     "text": [
      "\n",
      "--- Task 3.3: Kết hợp thành một nn.Module ---\n",
      "Đã khởi tạo mô hình:\n",
      "MyFirstModel(\n",
      "  (embedding): Embedding(100, 16)\n",
      "  (linear): Linear(in_features=16, out_features=8, bias=True)\n",
      "  (activation): ReLU()\n",
      "  (output_layer): Linear(in_features=8, out_features=2, bias=True)\n",
      ")\n",
      "\n",
      "Input data shape: torch.Size([1, 4])\n",
      "Model output shape: torch.Size([1, 4, 2])\n",
      "Model output data:\n",
      "tensor([[[-0.6115,  0.0753],\n",
      "         [-0.3643,  0.2336],\n",
      "         [-0.6416, -0.0710],\n",
      "         [-0.3912,  0.2651]]], grad_fn=<ViewBackward0>)\n"
     ]
    }
   ],
   "source": [
    "print(\"\\n--- Task 3.3: Kết hợp thành một nn.Module ---\")\n",
    "from torch import nn\n",
    "\n",
    "class MyFirstModel(nn.Module):\n",
    "    def __init__(self, vocab_size, embedding_dim, hidden_dim, output_dim):\n",
    "        super(MyFirstModel, self).__init__()\n",
    "        self.embedding = nn.Embedding(vocab_size, embedding_dim)\n",
    "        self.linear = nn.Linear(embedding_dim, hidden_dim)\n",
    "        self.activation = nn.ReLU()\n",
    "        self.output_layer = nn.Linear(hidden_dim, output_dim)\n",
    "\n",
    "    def forward(self, indices):\n",
    "        embeds = self.embedding(indices)\n",
    "        hidden = self.activation(self.linear(embeds))\n",
    "        output = self.output_layer(hidden)\n",
    "        return output\n",
    "\n",
    "model = MyFirstModel(vocab_size=100, embedding_dim=16, hidden_dim=8, output_dim=2)\n",
    "print(\"Đã khởi tạo mô hình:\")\n",
    "print(model)\n",
    "\n",
    "input_data = torch.LongTensor([[1, 2, 5, 9]])\n",
    "print(f\"\\nInput data shape: {input_data.shape}\")\n",
    "\n",
    "output_data = model(input_data)\n",
    "print(f\"Model output shape: {output_data.shape}\")\n",
    "print(f\"Model output data:\\n{output_data}\")"
   ]
  },
  {
   "cell_type": "markdown",
   "id": "9fe7ae7a",
   "metadata": {},
   "source": [
    "## 3. Kết luận\n",
    "\n",
    "Qua bài lab này, bạn đã làm quen với các thành phần cơ bản nhất của PyTorch: Tensor, autograd, và cách định nghĩa mô hình bằng nn.Module."
   ]
  }
 ],
 "metadata": {
  "kernelspec": {
   "display_name": "Python 3.10 (acv_torch)",
   "language": "python",
   "name": "acv_torch"
  },
  "language_info": {
   "codemirror_mode": {
    "name": "ipython",
    "version": 3
   },
   "file_extension": ".py",
   "mimetype": "text/x-python",
   "name": "python",
   "nbconvert_exporter": "python",
   "pygments_lexer": "ipython3",
   "version": "3.10.18"
  }
 },
 "nbformat": 4,
 "nbformat_minor": 5
}
